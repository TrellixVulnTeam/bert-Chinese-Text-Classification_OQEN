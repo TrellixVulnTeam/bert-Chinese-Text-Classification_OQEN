{
  "nbformat": 4,
  "nbformat_minor": 0,
  "metadata": {
    "colab": {
      "name": "Untitled3.ipynb",
      "provenance": []
    },
    "kernelspec": {
      "name": "python3",
      "display_name": "Python 3"
    },
    "accelerator": "GPU"
  },
  "cells": [
    {
      "cell_type": "code",
      "metadata": {
        "id": "WF6M3vx5GWEc",
        "colab_type": "code",
        "colab": {}
      },
      "source": [
        "!git clone https://github.com/luweishuang/bert-Chinese-Text-Classification.git\n",
        "%cd /content/bert-Chinese-Text-Classification"
      ],
      "execution_count": 0,
      "outputs": []
    },
    {
      "cell_type": "code",
      "metadata": {
        "id": "gk9o4agPGeSq",
        "colab_type": "code",
        "colab": {}
      },
      "source": [
        "from google.colab import drive\n",
        "drive.mount('/content/drive')"
      ],
      "execution_count": 0,
      "outputs": []
    },
    {
      "cell_type": "code",
      "metadata": {
        "id": "Q6WxijD_GiG6",
        "colab_type": "code",
        "colab": {}
      },
      "source": [
        "%cd /content/drive/My\\ Drive\n",
        "# !cp vocab.txt ../../bert-Chinese-Text-Classification/Bert-Chinese-Text-Classification-Pytorch/bert_pretrain\n",
        "# !cp bert_config.json ../../bert-Chinese-Text-Classification/Bert-Chinese-Text-Classification-Pytorch/bert_pretrain\n",
        "!cp pytorch_model.bin ../../bert-Chinese-Text-Classification/Bert-Chinese-Text-Classification-Pytorch/bert_pretrain"
      ],
      "execution_count": 0,
      "outputs": []
    },
    {
      "cell_type": "code",
      "metadata": {
        "id": "5CLn0Q7DGjQO",
        "colab_type": "code",
        "colab": {}
      },
      "source": [
        "!pip install pytorch_pretrained_bert"
      ],
      "execution_count": 0,
      "outputs": []
    },
    {
      "cell_type": "code",
      "metadata": {
        "id": "F8RG2tfjGl_V",
        "colab_type": "code",
        "colab": {}
      },
      "source": [
        "%cd /content/bert-Chinese-Text-Classification/Bert-Chinese-Text-Classification-Pytorch\n",
        "!python run.py --model bert"
      ],
      "execution_count": 0,
      "outputs": []
    }
  ]
}